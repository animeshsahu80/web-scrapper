{
 "cells": [
  {
   "cell_type": "code",
   "execution_count": 147,
   "metadata": {},
   "outputs": [],
   "source": [
    "import requests\n",
    "from requests_html import HTML\n",
    "import pandas as pd\n",
    "import os\n"
   ]
  },
  {
   "cell_type": "code",
   "execution_count": 148,
   "metadata": {},
   "outputs": [],
   "source": [
    "def url_to_file(url,filename='data.html'):\n",
    "    r=requests.get(url)\n",
    "    if r.status_code == 200:\n",
    "        html_text=r.text\n",
    "        f=open(filename,'w')\n",
    "        f.write(html_text)\n",
    "        return html_text\n",
    "    return \"false\""
   ]
  },
  {
   "cell_type": "code",
   "execution_count": 149,
   "metadata": {},
   "outputs": [],
   "source": [
    "def parse_and_save(url,year):\n",
    "    BASR_DIR=os.path.dirname('__file__')\n",
    "    url=f'https://www.boxofficemojo.com/year/world/{year}/'\n",
    "\n",
    "    html_text=url_to_file(url)               #extract html text from url\n",
    "    if html_text=='false':\n",
    "        print('enter valid year')\n",
    "    else:\n",
    "        r_html=HTML(html=html_text)              #create r_html object to extract text from tags\n",
    "        table_class='.imdb-scroll-table'         # . selector to find table with this class\n",
    "        r_table=r_html.find(table_class)         # list containing single table      \n",
    "\n",
    "        if len(r_table)==1:\n",
    "            table_data=[]                            #list to store rows of table  \n",
    "            parsed_table=r_table[0]            \n",
    "            rows=parsed_table.find('tr')             #find rows with tr attribute\n",
    "            header=rows[0]                           #html text of coloumn names\n",
    "            col_name=[]                              #list to store col name\n",
    "            header_name=header.find('th')            #finding col name\n",
    "            for i in header_name:\n",
    "                col_name.append(i.text) \n",
    "            for x in rows[1:]:                       #perform a for loop for each row\n",
    "                cols=x.find('td')                    #finding elements of each row\n",
    "                row_data=[]\n",
    "                for i,x in enumerate(cols):\n",
    "                    row_data.append(x.text)\n",
    "                table_data.append(row_data)\n",
    "            df=pd.DataFrame(table_data,columns=col_name)\n",
    "            path=os.path.join(BASR_DIR,'data')\n",
    "            os.makedirs(path,exist_ok=True)\n",
    "            file_path=os.path.join('data',f'{year}_box_office_collection.csv')\n",
    "            df.to_csv(file_path,index=False)"
   ]
  },
  {
   "cell_type": "code",
   "execution_count": 150,
   "metadata": {},
   "outputs": [
    {
     "name": "stdout",
     "output_type": "stream",
     "text": [
      "enter the starting year:2013\n",
      "enter the final year:2017\n"
     ]
    }
   ],
   "source": [
    "if __name__==\"__main__\":\n",
    "    from_yr=input('enter the starting year:')\n",
    "    to_yr=input('enter the final year:')\n",
    "    if (from_yr>to_yr):\n",
    "        print('invalid input')\n",
    "    else:\n",
    "        for x in range(int(from_yr),int(to_yr)+1):\n",
    "            parse_and_save(url,year=str(x))"
   ]
  },
  {
   "cell_type": "code",
   "execution_count": null,
   "metadata": {},
   "outputs": [],
   "source": []
  }
 ],
 "metadata": {
  "kernelspec": {
   "display_name": "Python 3",
   "language": "python",
   "name": "python3"
  },
  "language_info": {
   "codemirror_mode": {
    "name": "ipython",
    "version": 3
   },
   "file_extension": ".py",
   "mimetype": "text/x-python",
   "name": "python",
   "nbconvert_exporter": "python",
   "pygments_lexer": "ipython3",
   "version": "3.8.2"
  }
 },
 "nbformat": 4,
 "nbformat_minor": 4
}
